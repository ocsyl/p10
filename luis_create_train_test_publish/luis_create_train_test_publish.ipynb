{
 "cells": [
  {
   "cell_type": "markdown",
   "id": "0f84903f",
   "metadata": {},
   "source": [
    "# Gestion de l'application Luis"
   ]
  },
  {
   "cell_type": "markdown",
   "id": "a6500914",
   "metadata": {},
   "source": [
    "### Table des matières\n",
    "\n",
    "* [**1. Introduction**](#chapter1)\n",
    "* [**2. Exploration des données**](#chapter2)\n",
    "* [**3. Transformation du format**](#chapter3)\n",
    "* [**4. Séparation train et test**](#chapter4)\n",
    "* [**5. Création de l'appli Luis**](#chapter5)\n",
    "* [**6. Entrainement du modèle**](#chapter6)\n",
    "* [**7. Publication de l'appli Luis pour le test**](#chapter7)\n",
    "* [**8. Evaluation du modèle**](#chapter8)\n",
    "    * [8.1. Portail Luis](#section_8_1)\n",
    "    * [8.2. Luis SDK](#section_8_2)\n",
    "* [**9. Publication de l'appli Luis en production**](#chapter9)\n",
    "* [**10. Création d'une nouvelle version pour mises à jours**](#chapter10)"
   ]
  },
  {
   "cell_type": "markdown",
   "id": "a6b1a4c0",
   "metadata": {},
   "source": [
    "## 1 - Introduction <a class=\"anchor\" id=\"chapter1\"></a>"
   ]
  },
  {
   "cell_type": "markdown",
   "id": "c8349646",
   "metadata": {},
   "source": [
    "Ce notebook permet  \n",
    "- d'entrainer un modèle Luis à partir des données de Frames Dataset  \n",
    "- de l'évaluer \n",
    "- de le publier  "
   ]
  },
  {
   "cell_type": "code",
   "execution_count": 44,
   "id": "67708324",
   "metadata": {},
   "outputs": [],
   "source": [
    "import pandas as pd\n",
    "import numpy as np\n",
    "import datetime\n",
    "import time\n",
    "import json\n",
    "import os\n",
    "import matplotlib.pyplot as plt\n"
   ]
  },
  {
   "cell_type": "markdown",
   "id": "8d9263dc",
   "metadata": {},
   "source": [
    "## 2 - Exploration des données <a class=\"anchor\" id=\"chapter2\"></a>"
   ]
  },
  {
   "cell_type": "code",
   "execution_count": 2,
   "id": "b03656cc",
   "metadata": {},
   "outputs": [],
   "source": [
    "df = pd.read_json(\"./frames/frames.json\")\n"
   ]
  },
  {
   "cell_type": "markdown",
   "id": "6ccf92cb",
   "metadata": {},
   "source": [
    "#### Aperçu des données:"
   ]
  },
  {
   "cell_type": "code",
   "execution_count": 3,
   "id": "860cdef5",
   "metadata": {},
   "outputs": [
    {
     "data": {
      "text/html": [
       "<div>\n",
       "<style scoped>\n",
       "    .dataframe tbody tr th:only-of-type {\n",
       "        vertical-align: middle;\n",
       "    }\n",
       "\n",
       "    .dataframe tbody tr th {\n",
       "        vertical-align: top;\n",
       "    }\n",
       "\n",
       "    .dataframe thead th {\n",
       "        text-align: right;\n",
       "    }\n",
       "</style>\n",
       "<table border=\"1\" class=\"dataframe\">\n",
       "  <thead>\n",
       "    <tr style=\"text-align: right;\">\n",
       "      <th></th>\n",
       "      <th>user_id</th>\n",
       "      <th>turns</th>\n",
       "      <th>wizard_id</th>\n",
       "      <th>id</th>\n",
       "      <th>labels</th>\n",
       "    </tr>\n",
       "  </thead>\n",
       "  <tbody>\n",
       "    <tr>\n",
       "      <th>0</th>\n",
       "      <td>U22HTHYNP</td>\n",
       "      <td>[{'text': 'I'd like to book a trip to Atlantis...</td>\n",
       "      <td>U21DKG18C</td>\n",
       "      <td>e2c0fc6c-2134-4891-8353-ef16d8412c9a</td>\n",
       "      <td>{'userSurveyRating': 4.0, 'wizardSurveyTaskSuc...</td>\n",
       "    </tr>\n",
       "    <tr>\n",
       "      <th>1</th>\n",
       "      <td>U21E41CQP</td>\n",
       "      <td>[{'text': 'Hello, I am looking to book a vacat...</td>\n",
       "      <td>U21DMV0KA</td>\n",
       "      <td>4a3bfa39-2c22-42c8-8694-32b4e34415e9</td>\n",
       "      <td>{'userSurveyRating': 3.0, 'wizardSurveyTaskSuc...</td>\n",
       "    </tr>\n",
       "    <tr>\n",
       "      <th>2</th>\n",
       "      <td>U21RP4FCY</td>\n",
       "      <td>[{'text': 'Hello there i am looking to go on a...</td>\n",
       "      <td>U21E0179B</td>\n",
       "      <td>6e67ed28-e94c-4fab-96b6-68569a92682f</td>\n",
       "      <td>{'userSurveyRating': 2.0, 'wizardSurveyTaskSuc...</td>\n",
       "    </tr>\n",
       "    <tr>\n",
       "      <th>3</th>\n",
       "      <td>U22HTHYNP</td>\n",
       "      <td>[{'text': 'Hi I'd like to go to Caprica from B...</td>\n",
       "      <td>U21DKG18C</td>\n",
       "      <td>5ae76e50-5b48-4166-9f6d-67aaabd7bcaa</td>\n",
       "      <td>{'userSurveyRating': 5.0, 'wizardSurveyTaskSuc...</td>\n",
       "    </tr>\n",
       "    <tr>\n",
       "      <th>4</th>\n",
       "      <td>U21E41CQP</td>\n",
       "      <td>[{'text': 'Hello, I am looking to book a trip ...</td>\n",
       "      <td>U21DMV0KA</td>\n",
       "      <td>24603086-bb53-431e-a0d8-1dcc63518ba9</td>\n",
       "      <td>{'userSurveyRating': 5.0, 'wizardSurveyTaskSuc...</td>\n",
       "    </tr>\n",
       "    <tr>\n",
       "      <th>...</th>\n",
       "      <td>...</td>\n",
       "      <td>...</td>\n",
       "      <td>...</td>\n",
       "      <td>...</td>\n",
       "      <td>...</td>\n",
       "    </tr>\n",
       "    <tr>\n",
       "      <th>1364</th>\n",
       "      <td>U2AMZ8TLK</td>\n",
       "      <td>[{'text': 'Hi I've got 9 days free and I'm loo...</td>\n",
       "      <td>U21DMV0KA</td>\n",
       "      <td>957fd205-bb7c-4b81-8cb6-13c81c51c5c9</td>\n",
       "      <td>{'userSurveyRating': 3.5, 'wizardSurveyTaskSuc...</td>\n",
       "    </tr>\n",
       "    <tr>\n",
       "      <th>1365</th>\n",
       "      <td>U2AMZ8TLK</td>\n",
       "      <td>[{'text': 'I need to get to Fortaleza on Septe...</td>\n",
       "      <td>U260BGVS6</td>\n",
       "      <td>71b21b86-2d05-4372-a0ee-6ed64b0ddc42</td>\n",
       "      <td>{'userSurveyRating': 4.5, 'wizardSurveyTaskSuc...</td>\n",
       "    </tr>\n",
       "    <tr>\n",
       "      <th>1366</th>\n",
       "      <td>U231PNNA3</td>\n",
       "      <td>[{'text': 'We're finally going on vacation isn...</td>\n",
       "      <td>U21T9NMKM</td>\n",
       "      <td>ef2cd70e-c1f2-42be-8839-cb465af0bf41</td>\n",
       "      <td>{'userSurveyRating': 5.0, 'wizardSurveyTaskSuc...</td>\n",
       "    </tr>\n",
       "    <tr>\n",
       "      <th>1367</th>\n",
       "      <td>U2AMZ8TLK</td>\n",
       "      <td>[{'text': 'Hi there, I'm looking for a place t...</td>\n",
       "      <td>U21DMV0KA</td>\n",
       "      <td>ffa79d2c-14eb-45e6-8573-b0817a1a1803</td>\n",
       "      <td>{'userSurveyRating': 4.0, 'wizardSurveyTaskSuc...</td>\n",
       "    </tr>\n",
       "    <tr>\n",
       "      <th>1368</th>\n",
       "      <td>U2AMZ8TLK</td>\n",
       "      <td>[{'text': 'I need to book a trip for the whole...</td>\n",
       "      <td>U260BGVS6</td>\n",
       "      <td>0d364be2-9f43-4f5a-8506-1af4523515ba</td>\n",
       "      <td>{'userSurveyRating': 5.0, 'wizardSurveyTaskSuc...</td>\n",
       "    </tr>\n",
       "  </tbody>\n",
       "</table>\n",
       "<p>1369 rows × 5 columns</p>\n",
       "</div>"
      ],
      "text/plain": [
       "        user_id                                              turns  wizard_id  \\\n",
       "0     U22HTHYNP  [{'text': 'I'd like to book a trip to Atlantis...  U21DKG18C   \n",
       "1     U21E41CQP  [{'text': 'Hello, I am looking to book a vacat...  U21DMV0KA   \n",
       "2     U21RP4FCY  [{'text': 'Hello there i am looking to go on a...  U21E0179B   \n",
       "3     U22HTHYNP  [{'text': 'Hi I'd like to go to Caprica from B...  U21DKG18C   \n",
       "4     U21E41CQP  [{'text': 'Hello, I am looking to book a trip ...  U21DMV0KA   \n",
       "...         ...                                                ...        ...   \n",
       "1364  U2AMZ8TLK  [{'text': 'Hi I've got 9 days free and I'm loo...  U21DMV0KA   \n",
       "1365  U2AMZ8TLK  [{'text': 'I need to get to Fortaleza on Septe...  U260BGVS6   \n",
       "1366  U231PNNA3  [{'text': 'We're finally going on vacation isn...  U21T9NMKM   \n",
       "1367  U2AMZ8TLK  [{'text': 'Hi there, I'm looking for a place t...  U21DMV0KA   \n",
       "1368  U2AMZ8TLK  [{'text': 'I need to book a trip for the whole...  U260BGVS6   \n",
       "\n",
       "                                        id  \\\n",
       "0     e2c0fc6c-2134-4891-8353-ef16d8412c9a   \n",
       "1     4a3bfa39-2c22-42c8-8694-32b4e34415e9   \n",
       "2     6e67ed28-e94c-4fab-96b6-68569a92682f   \n",
       "3     5ae76e50-5b48-4166-9f6d-67aaabd7bcaa   \n",
       "4     24603086-bb53-431e-a0d8-1dcc63518ba9   \n",
       "...                                    ...   \n",
       "1364  957fd205-bb7c-4b81-8cb6-13c81c51c5c9   \n",
       "1365  71b21b86-2d05-4372-a0ee-6ed64b0ddc42   \n",
       "1366  ef2cd70e-c1f2-42be-8839-cb465af0bf41   \n",
       "1367  ffa79d2c-14eb-45e6-8573-b0817a1a1803   \n",
       "1368  0d364be2-9f43-4f5a-8506-1af4523515ba   \n",
       "\n",
       "                                                 labels  \n",
       "0     {'userSurveyRating': 4.0, 'wizardSurveyTaskSuc...  \n",
       "1     {'userSurveyRating': 3.0, 'wizardSurveyTaskSuc...  \n",
       "2     {'userSurveyRating': 2.0, 'wizardSurveyTaskSuc...  \n",
       "3     {'userSurveyRating': 5.0, 'wizardSurveyTaskSuc...  \n",
       "4     {'userSurveyRating': 5.0, 'wizardSurveyTaskSuc...  \n",
       "...                                                 ...  \n",
       "1364  {'userSurveyRating': 3.5, 'wizardSurveyTaskSuc...  \n",
       "1365  {'userSurveyRating': 4.5, 'wizardSurveyTaskSuc...  \n",
       "1366  {'userSurveyRating': 5.0, 'wizardSurveyTaskSuc...  \n",
       "1367  {'userSurveyRating': 4.0, 'wizardSurveyTaskSuc...  \n",
       "1368  {'userSurveyRating': 5.0, 'wizardSurveyTaskSuc...  \n",
       "\n",
       "[1369 rows x 5 columns]"
      ]
     },
     "execution_count": 3,
     "metadata": {},
     "output_type": "execute_result"
    }
   ],
   "source": [
    "df"
   ]
  },
  {
   "cell_type": "markdown",
   "id": "ff660f67",
   "metadata": {},
   "source": [
    "#### Aperçu des colonnes turns et labels:"
   ]
  },
  {
   "cell_type": "code",
   "execution_count": 4,
   "id": "3b0185bf",
   "metadata": {},
   "outputs": [
    {
     "data": {
      "text/plain": [
       "{'userSurveyRating': 4.0, 'wizardSurveyTaskSuccessful': True}"
      ]
     },
     "execution_count": 4,
     "metadata": {},
     "output_type": "execute_result"
    }
   ],
   "source": [
    "df['labels'][0]"
   ]
  },
  {
   "cell_type": "code",
   "execution_count": 53,
   "id": "418d45d3",
   "metadata": {},
   "outputs": [
    {
     "data": {
      "text/plain": [
       "{'text': \"I'd like to book a trip to Atlantis from Caprica on Saturday, August 13, 2016 for 8 adults. I have a tight budget of 1700.\",\n",
       " 'labels': {'acts': [{'args': [{'val': 'book', 'key': 'intent'}],\n",
       "    'name': 'inform'},\n",
       "   {'args': [{'val': 'Atlantis', 'key': 'dst_city'},\n",
       "     {'val': 'Caprica', 'key': 'or_city'},\n",
       "     {'val': 'Saturday, August 13, 2016', 'key': 'str_date'},\n",
       "     {'val': '8', 'key': 'n_adults'},\n",
       "     {'val': '1700', 'key': 'budget'}],\n",
       "    'name': 'inform'}],\n",
       "  'acts_without_refs': [{'args': [{'val': 'book', 'key': 'intent'}],\n",
       "    'name': 'inform'},\n",
       "   {'args': [{'val': 'Atlantis', 'key': 'dst_city'},\n",
       "     {'val': 'Caprica', 'key': 'or_city'},\n",
       "     {'val': 'Saturday, August 13, 2016', 'key': 'str_date'},\n",
       "     {'val': '8', 'key': 'n_adults'},\n",
       "     {'val': '1700', 'key': 'budget'}],\n",
       "    'name': 'inform'}],\n",
       "  'active_frame': 1,\n",
       "  'frames': [{'info': {'intent': [{'val': 'book', 'negated': False}],\n",
       "     'budget': [{'val': '1700.0', 'negated': False}],\n",
       "     'dst_city': [{'val': 'Atlantis', 'negated': False}],\n",
       "     'or_city': [{'val': 'Caprica', 'negated': False}],\n",
       "     'str_date': [{'val': 'august 13', 'negated': False}],\n",
       "     'n_adults': [{'val': '8', 'negated': False}]},\n",
       "    'frame_id': 1,\n",
       "    'requests': [],\n",
       "    'frame_parent_id': None,\n",
       "    'binary_questions': [],\n",
       "    'compare_requests': []}]},\n",
       " 'author': 'user',\n",
       " 'timestamp': 1471272019730.0}"
      ]
     },
     "execution_count": 53,
     "metadata": {},
     "output_type": "execute_result"
    }
   ],
   "source": [
    "df['turns'][0][0]"
   ]
  },
  {
   "cell_type": "markdown",
   "id": "91692a2e",
   "metadata": {},
   "source": [
    "La colonne turns contient les dialogues utilisateurs ainsi que les informations étiquetées.  \n",
    "Le premier turn de chaque userid correspond à la demande initiale de l'utilisateur."
   ]
  },
  {
   "cell_type": "markdown",
   "id": "1dd8d5df",
   "metadata": {},
   "source": [
    "#### Liste des intents des demandes initiales:"
   ]
  },
  {
   "cell_type": "code",
   "execution_count": 6,
   "id": "c04c6ee3",
   "metadata": {},
   "outputs": [
    {
     "data": {
      "text/plain": [
       "['book']"
      ]
     },
     "execution_count": 6,
     "metadata": {},
     "output_type": "execute_result"
    }
   ],
   "source": [
    "intents_list = []\n",
    "\n",
    "for idx, turn in enumerate(df['turns']):\n",
    "    for act in turn[0]['labels']['acts']:\n",
    "        for arg in act['args']:\n",
    "            if arg['key'] == 'intent':\n",
    "                if arg['val'] not in intents_list:\n",
    "                    intents_list.append(arg['val'])\n",
    "\n",
    "intents_list"
   ]
  },
  {
   "cell_type": "markdown",
   "id": "a46da387",
   "metadata": {},
   "source": [
    "#### Liste des entités:"
   ]
  },
  {
   "cell_type": "code",
   "execution_count": 7,
   "id": "334e4813",
   "metadata": {},
   "outputs": [
    {
     "data": {
      "text/plain": [
       "['intent',\n",
       " 'dst_city',\n",
       " 'or_city',\n",
       " 'str_date',\n",
       " 'n_adults',\n",
       " 'budget',\n",
       " 'end_date',\n",
       " 'n_children',\n",
       " 'max_duration',\n",
       " 'breakfast',\n",
       " 'flex',\n",
       " 'price',\n",
       " 'name',\n",
       " 'beach',\n",
       " 'seat',\n",
       " 'category',\n",
       " 'min_duration',\n",
       " 'park',\n",
       " 'count_dst_city',\n",
       " 'university',\n",
       " 'ref']"
      ]
     },
     "execution_count": 7,
     "metadata": {},
     "output_type": "execute_result"
    }
   ],
   "source": [
    "keys_list = []\n",
    "\n",
    "for idx, turn in enumerate(df['turns']):\n",
    "    for act in turn[0]['labels']['acts']:\n",
    "        for arg in act['args']:\n",
    "            if arg['key'] not in keys_list:\n",
    "                keys_list.append(arg['key'])\n",
    "\n",
    "keys_list\n",
    "    "
   ]
  },
  {
   "cell_type": "markdown",
   "id": "3db909d4",
   "metadata": {},
   "source": [
    "#### Liste des entités des turns avec une intent:"
   ]
  },
  {
   "cell_type": "code",
   "execution_count": 8,
   "id": "55b74306",
   "metadata": {},
   "outputs": [
    {
     "data": {
      "text/plain": [
       "['intent',\n",
       " 'str_date',\n",
       " 'end_date',\n",
       " 'dst_city',\n",
       " 'breakfast',\n",
       " 'or_city',\n",
       " 'n_adults',\n",
       " 'n_children',\n",
       " 'budget',\n",
       " 'max_duration',\n",
       " 'flex']"
      ]
     },
     "execution_count": 8,
     "metadata": {},
     "output_type": "execute_result"
    }
   ],
   "source": [
    "keys_list = []\n",
    "\n",
    "for idx, turn in enumerate(df['turns']):\n",
    "    for act in turn[0]['labels']['acts']:\n",
    "        intentFound = False\n",
    "        temp = keys_list.copy()\n",
    "        for arg in act['args']:\n",
    "            if arg['key'] == 'intent':\n",
    "                intentFound = True                \n",
    "            if arg['key'] not in temp:\n",
    "                temp.append(arg['key'])\n",
    "        if intentFound:\n",
    "            keys_list = temp.copy()\n",
    "            \n",
    "keys_list   \n"
   ]
  },
  {
   "cell_type": "markdown",
   "id": "1df93a8f",
   "metadata": {},
   "source": [
    "Les entités : str_date, end_date, dst_city, or_city, budget correspondent au besoin."
   ]
  },
  {
   "cell_type": "markdown",
   "id": "e22712f2",
   "metadata": {},
   "source": [
    "## 3 - Transformation du format <a class=\"anchor\" id=\"chapter3\"></a>"
   ]
  },
  {
   "cell_type": "markdown",
   "id": "d959540f",
   "metadata": {},
   "source": [
    "#### transformation du format des données du dataset frames au format Luis"
   ]
  },
  {
   "cell_type": "code",
   "execution_count": 9,
   "id": "cafdcff3",
   "metadata": {},
   "outputs": [],
   "source": [
    "labeledExampleUtteranceWithMLEntities = []\n",
    "entity_list = ['dst_city', 'or_city', 'str_date', 'end_date', 'budget']\n",
    "\n",
    "for idx, turn in enumerate(df['turns']):\n",
    "    labeledExampleUtteranceWithMLEntity  = {}\n",
    "    entityLabels=[]\n",
    "    intentFound = False\n",
    "    labeledExampleUtteranceWithMLEntity['text'] = turn[0]['text']\n",
    "    for act in turn[0]['labels']['acts']:\n",
    "        if act['name'] == 'inform': # contains arg with key and val, text which inform what user wants  \n",
    "            for arg in act['args']:\n",
    "                if arg['key'] == 'intent':\n",
    "                    intentFound = True\n",
    "                    labeledExampleUtteranceWithMLEntity['intentName'] = arg['val']\n",
    "                else:\n",
    "                    if arg['key'] in entity_list:\n",
    "                        arg_val = str(arg['val'])\n",
    "                        entityLabel={}\n",
    "                        entityLabel['entityName'] = arg['key']\n",
    "                        entityLabel['startCharIndex'] = turn[0]['text'].find(arg_val)\n",
    "                        entityLabel['endCharIndex'] = int(entityLabel['startCharIndex']) + int(len(arg_val)) - 1\n",
    "                        if entityLabel['startCharIndex']>0 and entityLabel['endCharIndex']>0:\n",
    "                            entityLabels.append(entityLabel)\n",
    "    labeledExampleUtteranceWithMLEntity['entityLabels'] = entityLabels\n",
    "    if intentFound:\n",
    "        labeledExampleUtteranceWithMLEntities.append(labeledExampleUtteranceWithMLEntity)\n"
   ]
  },
  {
   "cell_type": "code",
   "execution_count": 10,
   "id": "cb799af6",
   "metadata": {},
   "outputs": [],
   "source": [
    "df_datas = pd.DataFrame(labeledExampleUtteranceWithMLEntities)"
   ]
  },
  {
   "cell_type": "code",
   "execution_count": 11,
   "id": "e2063ea3",
   "metadata": {},
   "outputs": [
    {
     "data": {
      "text/html": [
       "<div>\n",
       "<style scoped>\n",
       "    .dataframe tbody tr th:only-of-type {\n",
       "        vertical-align: middle;\n",
       "    }\n",
       "\n",
       "    .dataframe tbody tr th {\n",
       "        vertical-align: top;\n",
       "    }\n",
       "\n",
       "    .dataframe thead th {\n",
       "        text-align: right;\n",
       "    }\n",
       "</style>\n",
       "<table border=\"1\" class=\"dataframe\">\n",
       "  <thead>\n",
       "    <tr style=\"text-align: right;\">\n",
       "      <th></th>\n",
       "      <th>text</th>\n",
       "      <th>intentName</th>\n",
       "      <th>entityLabels</th>\n",
       "    </tr>\n",
       "  </thead>\n",
       "  <tbody>\n",
       "    <tr>\n",
       "      <th>0</th>\n",
       "      <td>I'd like to book a trip to Atlantis from Capri...</td>\n",
       "      <td>book</td>\n",
       "      <td>[{'entityName': 'dst_city', 'startCharIndex': ...</td>\n",
       "    </tr>\n",
       "    <tr>\n",
       "      <th>1</th>\n",
       "      <td>Hello, I am looking to book a vacation from Go...</td>\n",
       "      <td>book</td>\n",
       "      <td>[{'entityName': 'dst_city', 'startCharIndex': ...</td>\n",
       "    </tr>\n",
       "    <tr>\n",
       "      <th>2</th>\n",
       "      <td>Hello there i am looking to go on a vacation w...</td>\n",
       "      <td>book</td>\n",
       "      <td>[{'entityName': 'dst_city', 'startCharIndex': ...</td>\n",
       "    </tr>\n",
       "    <tr>\n",
       "      <th>3</th>\n",
       "      <td>Hi I'd like to go to Caprica from Busan, betwe...</td>\n",
       "      <td>book</td>\n",
       "      <td>[{'entityName': 'dst_city', 'startCharIndex': ...</td>\n",
       "    </tr>\n",
       "    <tr>\n",
       "      <th>4</th>\n",
       "      <td>Hello, I am looking to book a trip for 2 adult...</td>\n",
       "      <td>book</td>\n",
       "      <td>[{'entityName': 'budget', 'startCharIndex': 67...</td>\n",
       "    </tr>\n",
       "    <tr>\n",
       "      <th>...</th>\n",
       "      <td>...</td>\n",
       "      <td>...</td>\n",
       "      <td>...</td>\n",
       "    </tr>\n",
       "    <tr>\n",
       "      <th>1131</th>\n",
       "      <td>Hi I've got 9 days free and I'm looking for a ...</td>\n",
       "      <td>book</td>\n",
       "      <td>[{'entityName': 'or_city', 'startCharIndex': 6...</td>\n",
       "    </tr>\n",
       "    <tr>\n",
       "      <th>1132</th>\n",
       "      <td>I need to get to Fortaleza on September 8th or...</td>\n",
       "      <td>book</td>\n",
       "      <td>[{'entityName': 'dst_city', 'startCharIndex': ...</td>\n",
       "    </tr>\n",
       "    <tr>\n",
       "      <th>1133</th>\n",
       "      <td>We're finally going on vacation isn't that ama...</td>\n",
       "      <td>book</td>\n",
       "      <td>[{'entityName': 'budget', 'startCharIndex': 75...</td>\n",
       "    </tr>\n",
       "    <tr>\n",
       "      <th>1134</th>\n",
       "      <td>Hi there, I'm looking for a place to get away ...</td>\n",
       "      <td>book</td>\n",
       "      <td>[]</td>\n",
       "    </tr>\n",
       "    <tr>\n",
       "      <th>1135</th>\n",
       "      <td>I need to book a trip for the whole family fro...</td>\n",
       "      <td>book</td>\n",
       "      <td>[{'entityName': 'or_city', 'startCharIndex': 4...</td>\n",
       "    </tr>\n",
       "  </tbody>\n",
       "</table>\n",
       "<p>1136 rows × 3 columns</p>\n",
       "</div>"
      ],
      "text/plain": [
       "                                                   text intentName  \\\n",
       "0     I'd like to book a trip to Atlantis from Capri...       book   \n",
       "1     Hello, I am looking to book a vacation from Go...       book   \n",
       "2     Hello there i am looking to go on a vacation w...       book   \n",
       "3     Hi I'd like to go to Caprica from Busan, betwe...       book   \n",
       "4     Hello, I am looking to book a trip for 2 adult...       book   \n",
       "...                                                 ...        ...   \n",
       "1131  Hi I've got 9 days free and I'm looking for a ...       book   \n",
       "1132  I need to get to Fortaleza on September 8th or...       book   \n",
       "1133  We're finally going on vacation isn't that ama...       book   \n",
       "1134  Hi there, I'm looking for a place to get away ...       book   \n",
       "1135  I need to book a trip for the whole family fro...       book   \n",
       "\n",
       "                                           entityLabels  \n",
       "0     [{'entityName': 'dst_city', 'startCharIndex': ...  \n",
       "1     [{'entityName': 'dst_city', 'startCharIndex': ...  \n",
       "2     [{'entityName': 'dst_city', 'startCharIndex': ...  \n",
       "3     [{'entityName': 'dst_city', 'startCharIndex': ...  \n",
       "4     [{'entityName': 'budget', 'startCharIndex': 67...  \n",
       "...                                                 ...  \n",
       "1131  [{'entityName': 'or_city', 'startCharIndex': 6...  \n",
       "1132  [{'entityName': 'dst_city', 'startCharIndex': ...  \n",
       "1133  [{'entityName': 'budget', 'startCharIndex': 75...  \n",
       "1134                                                 []  \n",
       "1135  [{'entityName': 'or_city', 'startCharIndex': 4...  \n",
       "\n",
       "[1136 rows x 3 columns]"
      ]
     },
     "execution_count": 11,
     "metadata": {},
     "output_type": "execute_result"
    }
   ],
   "source": [
    "df_datas"
   ]
  },
  {
   "cell_type": "markdown",
   "id": "3215038a",
   "metadata": {},
   "source": [
    "#### Vérification des intents et entités:"
   ]
  },
  {
   "cell_type": "code",
   "execution_count": 12,
   "id": "8c470fc3",
   "metadata": {},
   "outputs": [],
   "source": [
    "def get_entities_list(datas):\n",
    "    entities_list = []\n",
    "    df = pd.DataFrame(datas)\n",
    "    for entityLabels in df['entityLabels']:\n",
    "        for entityLabel in entityLabels:\n",
    "            if entityLabel['entityName'] not in entities_list:\n",
    "                entities_list.append(entityLabel['entityName'])\n",
    "    return entities_list"
   ]
  },
  {
   "cell_type": "code",
   "execution_count": 13,
   "id": "353085de",
   "metadata": {},
   "outputs": [
    {
     "data": {
      "text/plain": [
       "['dst_city', 'or_city', 'str_date', 'budget', 'end_date']"
      ]
     },
     "execution_count": 13,
     "metadata": {},
     "output_type": "execute_result"
    }
   ],
   "source": [
    "entities_list = get_entities_list(labeledExampleUtteranceWithMLEntities)\n",
    "entities_list"
   ]
  },
  {
   "cell_type": "code",
   "execution_count": 14,
   "id": "f30da5b9",
   "metadata": {},
   "outputs": [
    {
     "data": {
      "text/plain": [
       "array(['book'], dtype=object)"
      ]
     },
     "execution_count": 14,
     "metadata": {},
     "output_type": "execute_result"
    }
   ],
   "source": [
    "df_datas.intentName.unique()"
   ]
  },
  {
   "cell_type": "markdown",
   "id": "4a2d20f5",
   "metadata": {},
   "source": [
    "## 4 - Train test split <a class=\"anchor\" id=\"chapter4\"></a>"
   ]
  },
  {
   "cell_type": "markdown",
   "id": "cba26c76",
   "metadata": {},
   "source": [
    "#### Séparation en jeu d'entrainement et de test et sauvegarde des données de test"
   ]
  },
  {
   "cell_type": "code",
   "execution_count": 15,
   "id": "2460368f",
   "metadata": {},
   "outputs": [],
   "source": [
    "def train_test_split(datas, train_ratio):\n",
    "    datas_len = len(datas)  \n",
    "    datas_train_len = round(datas_len * train_ratio)   \n",
    "    return datas[:datas_train_len], datas[datas_train_len:]\n",
    "    "
   ]
  },
  {
   "cell_type": "code",
   "execution_count": 16,
   "id": "f7f55dd4",
   "metadata": {},
   "outputs": [],
   "source": [
    "train_ratio = 0.7"
   ]
  },
  {
   "cell_type": "code",
   "execution_count": 17,
   "id": "bf8dabd2",
   "metadata": {},
   "outputs": [],
   "source": [
    "train_datas, test_datas = train_test_split(labeledExampleUtteranceWithMLEntities,train_ratio)"
   ]
  },
  {
   "cell_type": "code",
   "execution_count": 18,
   "id": "6660cacb",
   "metadata": {},
   "outputs": [],
   "source": [
    "\n",
    "with open('./datas_train.json', 'w') as fp:\n",
    "    json.dump(train_datas, fp)\n",
    "    \n",
    "with open('./datas_test.json', 'w') as fp:\n",
    "    json.dump(test_datas, fp)    \n"
   ]
  },
  {
   "cell_type": "markdown",
   "id": "b1398772",
   "metadata": {},
   "source": [
    "#### Vérification des entités et des intents:"
   ]
  },
  {
   "cell_type": "code",
   "execution_count": 19,
   "id": "529977f0",
   "metadata": {},
   "outputs": [
    {
     "data": {
      "text/plain": [
       "['dst_city', 'or_city', 'str_date', 'budget', 'end_date']"
      ]
     },
     "execution_count": 19,
     "metadata": {},
     "output_type": "execute_result"
    }
   ],
   "source": [
    "entities_list = get_entities_list(train_datas)\n",
    "entities_list"
   ]
  },
  {
   "cell_type": "code",
   "execution_count": 20,
   "id": "ff577877",
   "metadata": {},
   "outputs": [
    {
     "data": {
      "text/plain": [
       "['dst_city', 'or_city', 'str_date', 'end_date', 'budget']"
      ]
     },
     "execution_count": 20,
     "metadata": {},
     "output_type": "execute_result"
    }
   ],
   "source": [
    "entities_list = get_entities_list(test_datas)\n",
    "entities_list"
   ]
  },
  {
   "cell_type": "code",
   "execution_count": 21,
   "id": "d2385586",
   "metadata": {},
   "outputs": [
    {
     "data": {
      "text/plain": [
       "array(['book'], dtype=object)"
      ]
     },
     "execution_count": 21,
     "metadata": {},
     "output_type": "execute_result"
    }
   ],
   "source": [
    "pd.DataFrame(train_datas).intentName.unique()"
   ]
  },
  {
   "cell_type": "code",
   "execution_count": 22,
   "id": "48914a9e",
   "metadata": {},
   "outputs": [
    {
     "data": {
      "text/plain": [
       "array(['book'], dtype=object)"
      ]
     },
     "execution_count": 22,
     "metadata": {},
     "output_type": "execute_result"
    }
   ],
   "source": [
    "pd.DataFrame(test_datas).intentName.unique()"
   ]
  },
  {
   "cell_type": "markdown",
   "id": "924fc65c",
   "metadata": {},
   "source": [
    "## 5 - Création de l'application luis <a class=\"anchor\" id=\"chapter5\"></a>"
   ]
  },
  {
   "cell_type": "code",
   "execution_count": 23,
   "id": "38e85091",
   "metadata": {},
   "outputs": [],
   "source": [
    "from azure.cognitiveservices.language.luis.authoring import LUISAuthoringClient\n",
    "from msrest.authentication import CognitiveServicesCredentials\n",
    "from azure.cognitiveservices.language.luis.runtime import LUISRuntimeClient\n"
   ]
  },
  {
   "cell_type": "code",
   "execution_count": 24,
   "id": "27a0a156",
   "metadata": {},
   "outputs": [],
   "source": [
    "authoring_end_point = \"https://luisylbot-authoring.cognitiveservices.azure.com/\"\n",
    "# authoring_end_point = \"https://westeurope.api.cognitive.microsoft.com\"\n",
    "\n",
    "luis_authoring_key = os.environ.get(\"LuisAuthKey\")\n",
    "default_app_name = \"flymebot-{}\".format(datetime.datetime.now())\n",
    "version_id = \"0.1\"\n",
    "description = \"New App created with LUIS Python sample\""
   ]
  },
  {
   "cell_type": "code",
   "execution_count": 25,
   "id": "d901b050",
   "metadata": {},
   "outputs": [],
   "source": [
    "client = LUISAuthoringClient(\n",
    "    authoring_end_point,\n",
    "    CognitiveServicesCredentials(luis_authoring_key),\n",
    ")"
   ]
  },
  {
   "cell_type": "code",
   "execution_count": 26,
   "id": "1e63685c",
   "metadata": {},
   "outputs": [],
   "source": [
    "app_id = client.apps.add({\n",
    "            'name': default_app_name,\n",
    "            'initial_version_id': version_id,\n",
    "            'description': description,\n",
    "            'culture': 'en-us',\n",
    "        })"
   ]
  },
  {
   "cell_type": "code",
   "execution_count": 27,
   "id": "1a78ce57",
   "metadata": {},
   "outputs": [],
   "source": [
    "\n",
    "client.model.add_intent(app_id, version_id, 'book')    \n",
    "\n",
    "entities_list = ['dst_city', 'or_city', 'str_date', 'budget', 'end_date']\n",
    "for entity_name in entities_list:\n",
    "    result = client.model.add_entity(app_id, version_id, name=entity_name)\n",
    "\n"
   ]
  },
  {
   "cell_type": "markdown",
   "id": "ccd9ce77",
   "metadata": {},
   "source": [
    "## 6 - Entrainement du modèle <a class=\"anchor\" id=\"chapter6\"></a>"
   ]
  },
  {
   "cell_type": "code",
   "execution_count": 28,
   "id": "7fbad2b6",
   "metadata": {},
   "outputs": [],
   "source": [
    "with open('./datas_train.json', 'r') as fp:\n",
    "    datas_train = json.load(fp)"
   ]
  },
  {
   "cell_type": "code",
   "execution_count": 29,
   "id": "afba016c",
   "metadata": {},
   "outputs": [],
   "source": [
    "    \n",
    "batch_size = 100\n",
    "begin_batch = 0 \n",
    "end_batch = batch_size\n",
    "\n",
    "while end_batch < len(datas_train):\n",
    "    result = client.examples.batch(app_id, version_id, datas_train[begin_batch:end_batch])\n",
    "    begin_batch += batch_size\n",
    "    end_batch += batch_size\n",
    "    \n",
    "result = client.examples.batch(app_id, version_id, datas_train[begin_batch:len(datas_train)])\n",
    "    "
   ]
  },
  {
   "cell_type": "code",
   "execution_count": 30,
   "id": "0bb46f43",
   "metadata": {},
   "outputs": [
    {
     "name": "stdout",
     "output_type": "stream",
     "text": [
      "Your app is trained. You can now go to the LUIS portal and test it!\n"
     ]
    }
   ],
   "source": [
    "async_training = client.train.train_version(app_id, version_id)\n",
    "\n",
    "is_trained = async_training.status == \"UpToDate\"\n",
    "\n",
    "trained_status = [\"UpToDate\", \"Success\"]\n",
    "while not is_trained:\n",
    "    time.sleep(1)\n",
    "    status = client.train.get_status(app_id, version_id)\n",
    "    is_trained = all(\n",
    "        m.details.status in trained_status for m in status)\n",
    "\n",
    "print(\"Your app is trained. You can now go to the LUIS portal and test it!\")"
   ]
  },
  {
   "cell_type": "markdown",
   "id": "cedf0a9e",
   "metadata": {},
   "source": [
    "## 7 - Publication de l'application luis pour test <a class=\"anchor\" id=\"chapter7\"></a>"
   ]
  },
  {
   "cell_type": "markdown",
   "id": "a481c661",
   "metadata": {},
   "source": [
    "#### Publication de l'application sur le slot staging"
   ]
  },
  {
   "cell_type": "code",
   "execution_count": 31,
   "id": "7e0044b9",
   "metadata": {},
   "outputs": [
    {
     "name": "stdout",
     "output_type": "stream",
     "text": [
      "Your app is published. You can now go to test it on\n",
      "https://westeurope.api.cognitive.microsoft.com/luis/v2.0/apps/5659238b-01c3-4538-aa7f-cec19dbca50a?subscription-key=6a35ccafcbde43d98fefc3ba7f4e334a&q=\n"
     ]
    }
   ],
   "source": [
    "result = client.apps.update_settings(app_id, is_public=True)\n",
    "\n",
    "publish_result = client.apps.publish(\n",
    "        app_id, \"0.1\", is_staging=True, region='westeurope')\n",
    "\n",
    "endpoint = publish_result.endpoint_url + \\\n",
    "        \"?subscription-key=\" + luis_authoring_key + \"&q=\"\n",
    "\n",
    "print(\"Your app is published. You can now go to test it on\\n{}\".format(endpoint))"
   ]
  },
  {
   "cell_type": "markdown",
   "id": "b6c5598a",
   "metadata": {},
   "source": [
    "## 8 - Evaluation du modèle <a class=\"anchor\" id=\"chapter8\"></a>"
   ]
  },
  {
   "cell_type": "markdown",
   "id": "e47fd8cc",
   "metadata": {},
   "source": [
    "L'application peut être testée :  \n",
    "\n",
    "    1 -  Sur le portail luis.ai à l'aide d'un fichier test    \n",
    "    2 -  A l'aide de Luis sdk une fois publiée (sur le slot staging)    "
   ]
  },
  {
   "cell_type": "markdown",
   "id": "0e34feed",
   "metadata": {},
   "source": [
    "### 8.1 - Test sur le portail luis.ai <a class=\"anchor\" id=\"section_8_1\"></a>"
   ]
  },
  {
   "cell_type": "markdown",
   "id": "1ade0860",
   "metadata": {},
   "source": [
    "Formatage des clés au format luis.ai"
   ]
  },
  {
   "cell_type": "code",
   "execution_count": 32,
   "id": "abc5f8a2",
   "metadata": {},
   "outputs": [],
   "source": [
    "\n",
    "def format_test_luiai(datas):\n",
    "    for data in datas:\n",
    "        data[\"intent\"] = data.pop(\"intentName\")\n",
    "        data[\"entities\"] = data.pop(\"entityLabels\")\n",
    "        for entity in data[\"entities\"]:\n",
    "            entity[\"entity\"] = entity.pop(\"entityName\")\n",
    "            entity[\"startPos\"] = entity.pop(\"startCharIndex\")\n",
    "            entity[\"endPos\"] = entity.pop(\"endCharIndex\")\n",
    "    return datas\n"
   ]
  },
  {
   "cell_type": "code",
   "execution_count": 33,
   "id": "5956ddb8",
   "metadata": {},
   "outputs": [],
   "source": [
    "with open('./datas_test.json', 'r') as fp:\n",
    "    datas_test_to_format = json.load(fp)\n",
    "    \n",
    "datas_tests_luisai = format_test_luiai(datas_test_to_format)\n",
    "\n",
    "with open('./datas_tests_luisai.json', 'w') as fp:\n",
    "    json.dump(datas_tests_luisai, fp)"
   ]
  },
  {
   "cell_type": "markdown",
   "id": "748db614",
   "metadata": {},
   "source": [
    "Importer le fichier généré dans luis.ai"
   ]
  },
  {
   "cell_type": "markdown",
   "id": "ca9b3577",
   "metadata": {},
   "source": [
    "### 8.2 - Test avec Luis sdk <a class=\"anchor\" id=\"section_8_2\"></a>"
   ]
  },
  {
   "cell_type": "code",
   "execution_count": 39,
   "id": "a6c4aecd",
   "metadata": {},
   "outputs": [],
   "source": [
    "from sklearn.metrics import classification_report\n",
    "\n",
    "list_entities = ['dst_city', 'or_city', 'str_date', 'end_date', 'budget']\n",
    "\n",
    "def test_entities(datas_test):\n",
    "    dict_true_pred = {}\n",
    "    dict_true_pred['target'] = []\n",
    "    dict_true_pred['pred'] = []\n",
    "    dict_true_pred['pred_class'] = []\n",
    "\n",
    "    for data_test in datas_test:\n",
    "        query = data_test['text']\n",
    "        response_entities = get_entities_from_luis(query)\n",
    "\n",
    "        current_test_values = {}\n",
    "        for entity_label in data_test['entityLabels']:\n",
    "            entity_name = entity_label['entityName']\n",
    "            entity_value = get_entity_value(query, entity_label)\n",
    "            current_test_values[entity_name] = entity_value\n",
    "\n",
    "        for entity_name in list_entities:\n",
    "            if entity_name in current_test_values:\n",
    "                dict_true_pred['target'].append(entity_name)\n",
    "                if entity_name in response_entities:\n",
    "                    dict_true_pred['pred_class'].append(entity_name)\n",
    "                    if current_test_values[entity_name] == response_entities[entity_name][0]:\n",
    "                        dict_true_pred['pred'].append(entity_name)\n",
    "                    else:\n",
    "                        dict_true_pred['pred'].append(\"\")\n",
    "                else:\n",
    "                    dict_true_pred['pred'].append(\"\")\n",
    "                    dict_true_pred['pred_class'].append(\"\")\n",
    "            else:\n",
    "                if entity_name in response_entities:\n",
    "                    dict_true_pred['target'].append(\"\")\n",
    "                    dict_true_pred['pred'].append(entity_name)\n",
    "                    dict_true_pred['pred_class'].append(entity_name)\n",
    "                    \n",
    "    return pd.DataFrame(dict_true_pred)     \n",
    "\n",
    "\n",
    "def stats_recall_entities(df_entities, col_pred = 'pred'):\n",
    "\n",
    "    stats_rec = {}\n",
    "    for entity in list_entities:\n",
    "        stats_rec[entity] = {}\n",
    "        stats_rec[entity]['target'] = 0\n",
    "        stats_rec[entity]['found'] = 0    \n",
    "\n",
    "    for index, row in df_entities.iterrows(): \n",
    "        entity_name = row['target']\n",
    "        if entity_name != '':\n",
    "            stats_rec[entity_name]['target'] += 1\n",
    "            if entity_name == row[col_pred]:\n",
    "                stats_rec[entity_name]['found'] += 1\n",
    "                \n",
    "    df_stats_rec = pd.DataFrame(stats_rec).T\n",
    "    df_stats_rec['recall'] = round(df_stats_rec['found'] / df_stats_rec['target'],2) * 100                \n",
    "\n",
    "    return df_stats_rec\n",
    "\n",
    "\n",
    "def send_query_to_luis(query, app_id = app_id, slot_name = \"Staging\"):\n",
    "    predictionRequest = { \"query\" : query }\n",
    "    response = clientRuntime.prediction.get_slot_prediction(app_id, slot_name, predictionRequest)\n",
    "    return response\n",
    "\n",
    "def get_entity_value(query, entity_label):\n",
    "    start = entity_label['startCharIndex']\n",
    "    end = entity_label['endCharIndex']+1\n",
    "    entity_value = query[start:end]\n",
    "    return entity_value\n",
    "\n",
    "    \n",
    "def get_entities_from_luis(query, app_id = app_id, slot_name = \"Staging\"):\n",
    "    response = send_query_to_luis(query)\n",
    "    return response.prediction.entities\n",
    "\n",
    "                "
   ]
  },
  {
   "cell_type": "markdown",
   "id": "054b51a9",
   "metadata": {},
   "source": [
    "#### Création du runtime client:"
   ]
  },
  {
   "cell_type": "code",
   "execution_count": 35,
   "id": "58743597",
   "metadata": {},
   "outputs": [],
   "source": [
    "# prediction_endpoint = \"https://luisylbot.cognitiveservices.azure.com/\"\n",
    "prediction_endpoint = \"https://westeurope.api.cognitive.microsoft.com\"\n",
    "prediction_key = os.environ.get(\"LuisPredKey\")\n",
    "runtimeCredentials = CognitiveServicesCredentials(prediction_key)\n",
    "clientRuntime = LUISRuntimeClient(endpoint=prediction_endpoint, credentials=runtimeCredentials)\n"
   ]
  },
  {
   "cell_type": "code",
   "execution_count": 36,
   "id": "6d22951d",
   "metadata": {},
   "outputs": [
    {
     "name": "stdout",
     "output_type": "stream",
     "text": [
      "Intents: \n",
      "\t\"book\"\n",
      "Entities: \n",
      "\t{'or_city': ['Paris'], 'dst_city': ['berlin'], 'str_date': ['August 18 2022'], 'end_date': ['August 29'], 'budget': ['500$']}\n"
     ]
    }
   ],
   "source": [
    "# test runtime\n",
    "\n",
    "predictionRequest = { \"query\" : \"I want travel from Paris to berlin from August 18 2022 to August 29 with budget of 500$\" }\n",
    "response = clientRuntime.prediction.get_slot_prediction(app_id, \"Staging\", predictionRequest)\n",
    "\n",
    "print(\"Intents: \")\n",
    "for intent in response.prediction.intents:\n",
    "    print(\"\\t{}\".format (json.dumps (intent)))\n",
    "    \n",
    "print(\"Entities: \\n\\t{}\".format (response.prediction.entities))"
   ]
  },
  {
   "cell_type": "markdown",
   "id": "e82a5e88",
   "metadata": {},
   "source": [
    "#### Evaluation du modèle:"
   ]
  },
  {
   "cell_type": "code",
   "execution_count": 37,
   "id": "ac493ebf",
   "metadata": {},
   "outputs": [],
   "source": [
    "with open('./datas_test.json', 'r') as fp:\n",
    "    datas_test = json.load(fp)"
   ]
  },
  {
   "cell_type": "code",
   "execution_count": 40,
   "id": "e5aedbc2",
   "metadata": {},
   "outputs": [
    {
     "data": {
      "text/html": [
       "<div>\n",
       "<style scoped>\n",
       "    .dataframe tbody tr th:only-of-type {\n",
       "        vertical-align: middle;\n",
       "    }\n",
       "\n",
       "    .dataframe tbody tr th {\n",
       "        vertical-align: top;\n",
       "    }\n",
       "\n",
       "    .dataframe thead th {\n",
       "        text-align: right;\n",
       "    }\n",
       "</style>\n",
       "<table border=\"1\" class=\"dataframe\">\n",
       "  <thead>\n",
       "    <tr style=\"text-align: right;\">\n",
       "      <th></th>\n",
       "      <th>target</th>\n",
       "      <th>pred</th>\n",
       "      <th>pred_class</th>\n",
       "    </tr>\n",
       "  </thead>\n",
       "  <tbody>\n",
       "    <tr>\n",
       "      <th>0</th>\n",
       "      <td>dst_city</td>\n",
       "      <td>dst_city</td>\n",
       "      <td>dst_city</td>\n",
       "    </tr>\n",
       "    <tr>\n",
       "      <th>1</th>\n",
       "      <td>dst_city</td>\n",
       "      <td>dst_city</td>\n",
       "      <td>dst_city</td>\n",
       "    </tr>\n",
       "    <tr>\n",
       "      <th>2</th>\n",
       "      <td>dst_city</td>\n",
       "      <td>dst_city</td>\n",
       "      <td>dst_city</td>\n",
       "    </tr>\n",
       "    <tr>\n",
       "      <th>3</th>\n",
       "      <td>dst_city</td>\n",
       "      <td>dst_city</td>\n",
       "      <td>dst_city</td>\n",
       "    </tr>\n",
       "    <tr>\n",
       "      <th>4</th>\n",
       "      <td>dst_city</td>\n",
       "      <td></td>\n",
       "      <td></td>\n",
       "    </tr>\n",
       "    <tr>\n",
       "      <th>5</th>\n",
       "      <td></td>\n",
       "      <td>dst_city</td>\n",
       "      <td>dst_city</td>\n",
       "    </tr>\n",
       "    <tr>\n",
       "      <th>6</th>\n",
       "      <td>or_city</td>\n",
       "      <td></td>\n",
       "      <td></td>\n",
       "    </tr>\n",
       "    <tr>\n",
       "      <th>7</th>\n",
       "      <td>dst_city</td>\n",
       "      <td>dst_city</td>\n",
       "      <td>dst_city</td>\n",
       "    </tr>\n",
       "    <tr>\n",
       "      <th>8</th>\n",
       "      <td>or_city</td>\n",
       "      <td>or_city</td>\n",
       "      <td>or_city</td>\n",
       "    </tr>\n",
       "    <tr>\n",
       "      <th>9</th>\n",
       "      <td>dst_city</td>\n",
       "      <td>dst_city</td>\n",
       "      <td>dst_city</td>\n",
       "    </tr>\n",
       "  </tbody>\n",
       "</table>\n",
       "</div>"
      ],
      "text/plain": [
       "     target      pred pred_class\n",
       "0  dst_city  dst_city   dst_city\n",
       "1  dst_city  dst_city   dst_city\n",
       "2  dst_city  dst_city   dst_city\n",
       "3  dst_city  dst_city   dst_city\n",
       "4  dst_city                     \n",
       "5            dst_city   dst_city\n",
       "6   or_city                     \n",
       "7  dst_city  dst_city   dst_city\n",
       "8   or_city   or_city    or_city\n",
       "9  dst_city  dst_city   dst_city"
      ]
     },
     "execution_count": 40,
     "metadata": {},
     "output_type": "execute_result"
    }
   ],
   "source": [
    "df_entities =  test_entities(datas_test)\n",
    "df_entities[:10]"
   ]
  },
  {
   "cell_type": "code",
   "execution_count": 41,
   "id": "9ae937bb",
   "metadata": {},
   "outputs": [
    {
     "name": "stdout",
     "output_type": "stream",
     "text": [
      "              precision    recall  f1-score   support\n",
      "\n",
      "                   0.00      0.00      0.00        13\n",
      "      budget       0.98      0.90      0.94        51\n",
      "    dst_city       0.98      0.89      0.93       225\n",
      "    end_date       0.97      0.71      0.82        42\n",
      "     or_city       0.97      0.90      0.94       185\n",
      "    str_date       0.98      0.60      0.74        67\n",
      "\n",
      "    accuracy                           0.83       583\n",
      "   macro avg       0.81      0.67      0.73       583\n",
      "weighted avg       0.95      0.83      0.88       583\n",
      "\n"
     ]
    }
   ],
   "source": [
    "y_true = np.array(df_entities['target'])\n",
    "y_pred = np.array(df_entities['pred'])\n",
    "print(classification_report(y_true, y_pred))"
   ]
  },
  {
   "cell_type": "markdown",
   "id": "7353fdfb",
   "metadata": {},
   "source": [
    "#### Affichage du recall"
   ]
  },
  {
   "cell_type": "code",
   "execution_count": 42,
   "id": "431441c1",
   "metadata": {},
   "outputs": [
    {
     "data": {
      "text/html": [
       "<div>\n",
       "<style scoped>\n",
       "    .dataframe tbody tr th:only-of-type {\n",
       "        vertical-align: middle;\n",
       "    }\n",
       "\n",
       "    .dataframe tbody tr th {\n",
       "        vertical-align: top;\n",
       "    }\n",
       "\n",
       "    .dataframe thead th {\n",
       "        text-align: right;\n",
       "    }\n",
       "</style>\n",
       "<table border=\"1\" class=\"dataframe\">\n",
       "  <thead>\n",
       "    <tr style=\"text-align: right;\">\n",
       "      <th></th>\n",
       "      <th>target</th>\n",
       "      <th>found</th>\n",
       "      <th>recall</th>\n",
       "    </tr>\n",
       "  </thead>\n",
       "  <tbody>\n",
       "    <tr>\n",
       "      <th>dst_city</th>\n",
       "      <td>225</td>\n",
       "      <td>200</td>\n",
       "      <td>89.0</td>\n",
       "    </tr>\n",
       "    <tr>\n",
       "      <th>or_city</th>\n",
       "      <td>185</td>\n",
       "      <td>167</td>\n",
       "      <td>90.0</td>\n",
       "    </tr>\n",
       "    <tr>\n",
       "      <th>str_date</th>\n",
       "      <td>67</td>\n",
       "      <td>40</td>\n",
       "      <td>60.0</td>\n",
       "    </tr>\n",
       "    <tr>\n",
       "      <th>end_date</th>\n",
       "      <td>42</td>\n",
       "      <td>30</td>\n",
       "      <td>71.0</td>\n",
       "    </tr>\n",
       "    <tr>\n",
       "      <th>budget</th>\n",
       "      <td>51</td>\n",
       "      <td>46</td>\n",
       "      <td>90.0</td>\n",
       "    </tr>\n",
       "  </tbody>\n",
       "</table>\n",
       "</div>"
      ],
      "text/plain": [
       "          target  found  recall\n",
       "dst_city     225    200    89.0\n",
       "or_city      185    167    90.0\n",
       "str_date      67     40    60.0\n",
       "end_date      42     30    71.0\n",
       "budget        51     46    90.0"
      ]
     },
     "execution_count": 42,
     "metadata": {},
     "output_type": "execute_result"
    }
   ],
   "source": [
    "df_stats_rec = stats_recall_entities(df_entities)\n",
    "df_stats_rec"
   ]
  },
  {
   "cell_type": "code",
   "execution_count": 45,
   "id": "e27443f6",
   "metadata": {},
   "outputs": [
    {
     "data": {
      "image/png": "[encoded data removed]",
      "text/plain": [
       "<Figure size 720x432 with 2 Axes>"
      ]
     },
     "metadata": {
      "needs_background": "light"
     },
     "output_type": "display_data"
    }
   ],
   "source": [
    "fig, ax = plt.subplots(figsize=(10,6))\n",
    "\n",
    "df_stats_rec[['target','found']].plot(\n",
    "    use_index=True, \n",
    "    kind='bar',\n",
    "    ax=ax, \n",
    ")\n",
    "plt.ylabel('Count', fontsize=14)\n",
    "plt.xlabel('Entities', fontsize=14)\n",
    "\n",
    "df_stats_rec.plot(\n",
    "    use_index=True, \n",
    "    y='recall', \n",
    "    ax=ax, \n",
    "    secondary_y=True, \n",
    "    color='red'\n",
    ")\n",
    "plt.ylabel('recall (%)', fontsize=14)\n",
    "plt.ylim(0, 110)\n",
    "plt.title('Evaluation entities : recall', fontsize=20)\n",
    "\n",
    "\n",
    "plt.show()"
   ]
  },
  {
   "cell_type": "markdown",
   "id": "d2feca75",
   "metadata": {},
   "source": [
    "## 9 - Publication de l'application luis en production <a class=\"anchor\" id=\"chapter9\"></a>"
   ]
  },
  {
   "cell_type": "code",
   "execution_count": 46,
   "id": "97592bba",
   "metadata": {},
   "outputs": [
    {
     "name": "stdout",
     "output_type": "stream",
     "text": [
      "Your app is published. You can now go to test it on\n",
      "https://westeurope.api.cognitive.microsoft.com/luis/v2.0/apps/5659238b-01c3-4538-aa7f-cec19dbca50a?subscription-key=6a35ccafcbde43d98fefc3ba7f4e334a&q=\n"
     ]
    }
   ],
   "source": [
    "publish_result = client.apps.publish(\n",
    "        app_id, \"0.1\", is_staging=False, region='westeurope')\n",
    "\n",
    "endpoint = publish_result.endpoint_url + \\\n",
    "        \"?subscription-key=\" + luis_authoring_key + \"&q=\"\n",
    "\n",
    "print(\"Your app is published. You can now go to test it on\\n{}\".format(endpoint))"
   ]
  },
  {
   "cell_type": "code",
   "execution_count": null,
   "id": "9d75930d",
   "metadata": {},
   "outputs": [],
   "source": []
  },
  {
   "cell_type": "markdown",
   "id": "f03747d1",
   "metadata": {},
   "source": [
    "## 10 - Nouvelle version pour mises à jour <a class=\"anchor\" id=\"chapter10\"></a>"
   ]
  },
  {
   "cell_type": "code",
   "execution_count": 47,
   "id": "f958a89f",
   "metadata": {},
   "outputs": [
    {
     "name": "stdout",
     "output_type": "stream",
     "text": [
      "\n",
      "Cloning version 0.1 into 0.2\n",
      "Your app version has been cloned.\n"
     ]
    }
   ],
   "source": [
    "# Cloning a version\n",
    "print(\"\\nCloning version 0.1 into 0.2\")\n",
    "client.versions.clone(\n",
    "    app_id,\n",
    "    \"0.1\",  # Source\n",
    "    \"0.2\"   # New version name\n",
    ")\n",
    "print(\"Your app version has been cloned.\")\n"
   ]
  },
  {
   "cell_type": "code",
   "execution_count": 48,
   "id": "5c8cb2a0",
   "metadata": {},
   "outputs": [
    {
     "name": "stdout",
     "output_type": "stream",
     "text": [
      "Your app is published. You can now go to test it on\n",
      "https://westeurope.api.cognitive.microsoft.com/luis/v2.0/apps/5659238b-01c3-4538-aa7f-cec19dbca50a?subscription-key=6a35ccafcbde43d98fefc3ba7f4e334a&q=\n"
     ]
    }
   ],
   "source": [
    "publish_result = client.apps.publish(\n",
    "        app_id, \"0.2\", is_staging=True, region='westeurope')\n",
    "\n",
    "endpoint = publish_result.endpoint_url + \\\n",
    "        \"?subscription-key=\" + luis_authoring_key + \"&q=\"\n",
    "\n",
    "print(\"Your app is published. You can now go to test it on\\n{}\".format(endpoint))\n"
   ]
  },
  {
   "cell_type": "code",
   "execution_count": 373,
   "id": "c922af52",
   "metadata": {},
   "outputs": [],
   "source": [
    "  "
   ]
  }
 ],
 "metadata": {
  "kernelspec": {
   "display_name": "p10",
   "language": "python",
   "name": "p10"
  },
  "language_info": {
   "codemirror_mode": {
    "name": "ipython",
    "version": 3
   },
   "file_extension": ".py",
   "mimetype": "text/x-python",
   "name": "python",
   "nbconvert_exporter": "python",
   "pygments_lexer": "ipython3",
   "version": "3.8.13"
  }
 },
 "nbformat": 4,
 "nbformat_minor": 5
}
